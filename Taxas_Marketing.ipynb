{
 "cells": [
  {
   "cell_type": "code",
   "execution_count": 2,
   "metadata": {},
   "outputs": [],
   "source": [
    "#Recolhendo o dicionário\n",
    "dados_marketing = {\n",
    "    \"E-mail\": {\"visitas\": 5000, \"conversoes\": 400},\n",
    "    \"Redes Sociais\": {\"visitas\": 8000, \"conversoes\": 480},\n",
    "    \"Anúncios Pagos\": {\"visitas\": 12000, \"conversoes\": 720},\n",
    "    \"SEO\": {\"visitas\": 15000, \"conversoes\": 600},\n",
    "    \"YouTube Ads\": {\"visitas\": 9000, \"conversoes\": 450},\n",
    "    \"Google Ads\": {\"visitas\": 11000, \"conversoes\": 700},\n",
    "    \"TikTok Ads\": {\"visitas\": 7000, \"conversoes\": 350},\n",
    "    \"Influenciadores\": {\"visitas\": 10000, \"conversoes\": 300},\n",
    "    \"Blog\": {\"visitas\": 14000, \"conversoes\": 560},\n",
    "    \"LinkedIn Ads\": {\"visitas\": 6000, \"conversoes\": 300},\n",
    "    \"WhatsApp Marketing\": {\"visitas\": 4000, \"conversoes\": 280},\n",
    "    \"SMS Marketing\": {\"visitas\": 3000, \"conversoes\": 180},\n",
    "    \"Eventos\": {\"visitas\": 2000, \"conversoes\": 250}\n",
    "}\n",
    "#Exibindo e organizando os dados de modo mais útil"
   ]
  },
  {
   "cell_type": "code",
   "execution_count": 3,
   "metadata": {},
   "outputs": [
    {
     "name": "stdout",
     "output_type": "stream",
     "text": [
      "Taxa de conversão por canal:\n",
      "- E-mail: 8.00%\n",
      "- Redes Sociais: 6.00%\n",
      "- Anúncios Pagos: 6.00%\n",
      "- SEO: 4.00%\n",
      "- YouTube Ads: 5.00%\n",
      "- Google Ads: 6.36%\n",
      "- TikTok Ads: 5.00%\n",
      "- Influenciadores: 3.00%\n",
      "- Blog: 4.00%\n",
      "- LinkedIn Ads: 5.00%\n",
      "- WhatsApp Marketing: 7.00%\n",
      "- SMS Marketing: 6.00%\n",
      "- Eventos: 12.50%\n"
     ]
    }
   ],
   "source": [
    "dados_prontos = []\n",
    "taxas_de_conversao = []\n",
    "print('Taxa de conversão por canal:')#exibindo mensagem requisitada\n",
    "for nome, info in dados_marketing.items():\n",
    "    visitas = info['visitas']#variável visitas\n",
    "    conversoes = info['conversoes']#variável conversoes\n",
    "    taxas_de_conversao = round(conversoes / visitas * 100, 2)\n",
    "    recipiente_dados = [{'canal': nome, 'taxa': taxas_de_conversao}]#lista que vai receber os canais e taxas calculados\n",
    "    print(f'- {nome}: {taxas_de_conversao:.2f}%')#exibindo dados requisitados\n",
    "    dados_prontos.extend(recipiente_dados)#lista que recebeu os dados prontos"
   ]
  },
  {
   "cell_type": "code",
   "execution_count": 8,
   "metadata": {},
   "outputs": [
    {
     "name": "stdout",
     "output_type": "stream",
     "text": [
      "O canal com menor índice de conversões é: Influenciadores, com 3.00% de conversões.\n",
      "O canal com maior índice de conversões é: Eventos, com 12.50% de conversões.\n"
     ]
    }
   ],
   "source": [
    "taxas_cruas = []#lista que irá receber as taxas cruas (sem os canais e sem chaves atreladas)\n",
    "for dado in dados_prontos:#\"for\" que eu usei para preencher a lista 'taxas_cruas'\n",
    "    taxas= {dado['taxa']}\n",
    "    taxas_cruas.extend(taxas)\n",
    "#Descobrindo os canais de maior e menor taxa de conversão\n",
    "maior_taxa = max(taxas_cruas)\n",
    "menor_taxa = min(taxas_cruas)\n",
    "#\"for\" que compara esses dados e exibe as informações necessárias na tela\n",
    "for i, dado in enumerate(dados_prontos):\n",
    "    if dados_prontos[i]['taxa'] == maior_taxa:\n",
    "        print(f'O canal com maior índice de conversões é: {dados_prontos[i]['canal']}, com {maior_taxa:,.2f}% de conversões.')\n",
    "    if dados_prontos[i]['taxa'] == menor_taxa:\n",
    "        print(f'O canal com menor índice de conversões é: {dados_prontos[i]['canal']}, com {menor_taxa:,.2f}% de conversões.')"
   ]
  },
  {
   "cell_type": "code",
   "execution_count": 5,
   "metadata": {},
   "outputs": [
    {
     "name": "stdout",
     "output_type": "stream",
     "text": [
      "Classificação dos canais:\n",
      "E-mail: bom.\n",
      "Redes Sociais: bom.\n",
      "Anúncios Pagos: bom.\n",
      "SEO: precisa melhorar.\n",
      "YouTube Ads: bom.\n",
      "Google Ads: bom.\n",
      "TikTok Ads: bom.\n",
      "Influenciadores: precisa melhorar.\n",
      "Blog: precisa melhorar.\n",
      "LinkedIn Ads: bom.\n",
      "WhatsApp Marketing: bom.\n",
      "SMS Marketing: bom.\n",
      "Eventos: excelente.\n"
     ]
    }
   ],
   "source": [
    "#Loop para classificar e exibir corretamente as informações necessárias\n",
    "print('Classificação dos canais:')\n",
    "for i, dado in enumerate(dados_prontos):\n",
    "    if dados_prontos[i]['taxa']<5:\n",
    "        print(f'{dados_prontos[i]['canal']}: precisa melhorar.')\n",
    "    if dados_prontos[i]['taxa']<=10:\n",
    "            if dados_prontos[i]['taxa']>=5:\n",
    "                print(f'{dados_prontos[i]['canal']}: bom.')\n",
    "    if dados_prontos[i]['taxa']>=10:\n",
    "         print(f'{dados_prontos[i]['canal']}: excelente.')"
   ]
  },
  {
   "cell_type": "code",
   "execution_count": 6,
   "metadata": {},
   "outputs": [
    {
     "name": "stdout",
     "output_type": "stream",
     "text": [
      "-Precisa melhorar: 3\n",
      "-Bom: 9\n",
      "-Excelente: 1\n"
     ]
    }
   ],
   "source": [
    "excelente = 0\n",
    "bom = 0\n",
    "precisa_melhorar = 0\n",
    "for i, dado in enumerate(dados_prontos):\n",
    "    if dados_prontos[i]['taxa']<5:\n",
    "        precisa_melhorar += 1\n",
    "    if dados_prontos[i]['taxa']<=10 and dados_prontos[i]['taxa']>=5:\n",
    "        bom += 1\n",
    "    if dados_prontos[i]['taxa']>10:\n",
    "         excelente += 1\n",
    "print(f'-Precisa melhorar: {precisa_melhorar}')\n",
    "print(f'-Bom: {bom}')\n",
    "print(f'-Excelente: {excelente}')"
   ]
  }
 ],
 "metadata": {
  "kernelspec": {
   "display_name": "base",
   "language": "python",
   "name": "python3"
  },
  "language_info": {
   "codemirror_mode": {
    "name": "ipython",
    "version": 3
   },
   "file_extension": ".py",
   "mimetype": "text/x-python",
   "name": "python",
   "nbconvert_exporter": "python",
   "pygments_lexer": "ipython3",
   "version": "3.12.7"
  }
 },
 "nbformat": 4,
 "nbformat_minor": 2
}
